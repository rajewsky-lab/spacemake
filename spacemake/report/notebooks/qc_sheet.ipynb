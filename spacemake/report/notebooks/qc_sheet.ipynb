{
 "cells": [
  {
   "cell_type": "markdown",
   "metadata": {},
   "source": [
    "# <b>spacemake</b> - Quality Control"
   ]
  },
  {
   "cell_type": "code",
   "execution_count": null,
   "metadata": {},
   "outputs": [],
   "source": [
    "import numpy as np\n",
    "import scanpy as sc\n",
    "import spacemake as smk\n",
    "import matplotlib.pyplot as plt\n",
    "\n",
    "from itables import init_notebook_mode\n",
    "from IPython import get_ipython\n",
    "from functools import partial\n",
    "\n",
    "init_notebook_mode(all_interactive=True)"
   ]
  },
  {
   "cell_type": "code",
   "execution_count": null,
   "metadata": {},
   "outputs": [],
   "source": [
    "# Note: These can (must) be replaced if you run this outside of spacemake!\n",
    "# This notebook is not intended to run outside of spacemake, but you can do that\n",
    "\n",
    "run_modes = snakemake.params.run_modes # list\n",
    "adata_paths = snakemake.input # paths to the dge/*.h5ad file(s)\n",
    "split_reads_read_type = snakemake.input['reads_type_out'] # path to the split_reads file\n",
    "project_id = snakemake.wildcards.project_id # str\n",
    "sample_id = snakemake.wildcards.sample_id # str\n",
    "puck_barcode_file_id_qc = snakemake.wildcards.puck_barcode_file_id_qc # str (not a path, just the ID)\n",
    "complete_data_root = snakemake.params.complete_data_root # complete_data for a sample\n",
    "is_spatial = snakemake.params['is_spatial'] # bool\n",
    "config_yaml_path = \"config.yaml\" # at the root spacemake folder\n",
    "project_df_path = \"project_df.csv\" # at the root spacemake folder"
   ]
  },
  {
   "cell_type": "code",
   "execution_count": null,
   "metadata": {},
   "outputs": [],
   "source": [
    "config = smk.config.ConfigFile.from_yaml(config_yaml_path)\n",
    "project_df = smk.project_df.ProjectDF(project_df_path, config=config)\n",
    "sample_info = project_df.get_sample_info(project_id, sample_id)\n",
    "\n",
    "if isinstance(adata_paths, str):\n",
    "    adata_paths = [adata_paths]\n",
    "\n",
    "if isinstance(split_reads_read_type, str):\n",
    "    split_reads_read_type = [split_reads_read_type]\n",
    "\n",
    "if isinstance(run_modes, str) and run_modes is not None:\n",
    "    run_modes = [run_modes]\n",
    "elif run_modes is None:\n",
    "    run_modes = sample_info[\"run_mode\"]\n",
    "\n",
    "if (len(run_modes) == len(adata_paths)):\n",
    "    run_modes_adatas = {\n",
    "        f'{run_mode}': adata_path for run_mode, adata_path in zip(run_modes, adata_paths)\n",
    "    }\n",
    "else:\n",
    "    raise ValueError(\"'run_modes' and 'adata_paths' must have the same length\")"
   ]
  },
  {
   "cell_type": "markdown",
   "metadata": {},
   "source": [
    "## QC tables"
   ]
  },
  {
   "cell_type": "code",
   "execution_count": null,
   "metadata": {},
   "outputs": [],
   "source": [
    "sample_info_df = smk.report.qc_sequencing.create_sample_info_df(project_df, \n",
    "                                                                project_id, \n",
    "                                                                sample_id, \n",
    "                                                                puck_barcode_file_id_qc)\n",
    "run_modes_df = smk.report.qc_sequencing.create_run_modes_df(run_modes, project_df)\n",
    "mapping_stats_df = smk.report.qc_sequencing.create_mapping_stats_df(\n",
    "    split_reads_read_type,\n",
    "    complete_data_root\n",
    ")\n",
    "summary_beads_df = smk.report.qc_sequencing.create_summary_beads_df(\n",
    "    run_modes_adatas,\n",
    ")"
   ]
  },
  {
   "cell_type": "code",
   "execution_count": null,
   "metadata": {},
   "outputs": [],
   "source": [
    "smk.pl.metrics_table_html(sample_info_df)\n",
    "smk.pl.metrics_table_html(run_modes_df)\n",
    "smk.pl.metrics_table_html(mapping_stats_df)\n",
    "smk.pl.metrics_table_html(summary_beads_df)"
   ]
  },
  {
   "cell_type": "code",
   "execution_count": null,
   "metadata": {},
   "outputs": [],
   "source": [
    "visualizer = smk.pl.TabVisualizer()\n",
    "metric_desc = \"Knee-plot\"\n",
    "\n",
    "# Sample Information table\n",
    "visualizer.add_plot_group(\n",
    "        smk.pl.PlotGroup(\n",
    "        name=f\"Sample Information\",\n",
    "        description=f\"QC tables for the sample\",\n",
    "        plots=[smk.pl.DataFrameTable(\n",
    "            title=\"Sample Information\",\n",
    "            description=\"[Description]\",\n",
    "            data=sample_info_df\n",
    "        )]\n",
    "    )\n",
    ")\n",
    "\n",
    "# Run modes table\n",
    "visualizer.add_plot_group(\n",
    "        smk.pl.PlotGroup(\n",
    "        name=f\"Sample Information\",\n",
    "        description=f\"QC tables for the sample\",\n",
    "        plots=[smk.pl.DataFrameTable(\n",
    "            title=\"Sample Information\",\n",
    "            description=\"[Description]\",\n",
    "            data=sample_info_df\n",
    "        )]\n",
    "    )\n",
    ")\n",
    "\n",
    "# Sample Information table\n",
    "visualizer.add_plot_group(\n",
    "        smk.pl.PlotGroup(\n",
    "        name=f\"Sample Information\",\n",
    "        description=f\"QC tables for the sample\",\n",
    "        plots=[smk.pl.DataFrameTable(\n",
    "            title=\"Sample Information\",\n",
    "            description=\"[Description]\",\n",
    "            data=sample_info_df\n",
    "        )]\n",
    "    )\n",
    ")\n",
    "\n",
    "# Sample Information table\n",
    "visualizer.add_plot_group(\n",
    "        smk.pl.PlotGroup(\n",
    "        name=f\"Sample Information\",\n",
    "        description=f\"QC tables for the sample\",\n",
    "        plots=[smk.pl.DataFrameTable(\n",
    "            title=\"Sample Information\",\n",
    "            description=\"[Description]\",\n",
    "            data=sample_info_df\n",
    "        )]\n",
    "    )\n",
    ")"
   ]
  },
  {
   "cell_type": "markdown",
   "metadata": {},
   "source": [
    "## QC plots\n",
    "\n",
    "Each of the QC plots we show on a per run mode basis, to see if there are any downstream differences based on the run mode variable settings."
   ]
  },
  {
   "cell_type": "markdown",
   "metadata": {},
   "source": [
    "### 'Knee'-plot\n",
    "\n",
    "Below we plot a so called 'Knee'-plot: on the y-axis is the Cummulative sum of reads, on the x-axis are the bead barcodes sorted by number of reads. For single-cell samples, this plot tells you roughly how many beads are in the sample."
   ]
  },
  {
   "cell_type": "code",
   "execution_count": null,
   "metadata": {},
   "outputs": [],
   "source": [
    "visualizer = smk.pl.TabVisualizer()\n",
    "metric_desc = \"Knee-plot\"\n",
    "\n",
    "for run_mode, adata in run_modes_adatas.items():\n",
    "    plots = []\n",
    "    plot = smk.pl.Plot(\n",
    "        title=metric_desc,\n",
    "        description=f\"Knee-plot for run mode {run_mode}\",\n",
    "        plot_func=partial(smk.pl.knee_plot, adata)\n",
    "    )\n",
    "    plots.append(plot)\n",
    "    \n",
    "    group = smk.pl.PlotGroup(\n",
    "        name=f\"Run Mode: {run_mode}\",\n",
    "        description=f\"Analysis results for {run_mode}\",\n",
    "        plots=plots\n",
    "    )\n",
    "    \n",
    "    visualizer.add_plot_group(group)"
   ]
  },
  {
   "cell_type": "code",
   "execution_count": null,
   "metadata": {},
   "outputs": [],
   "source": [
    "display(visualizer.generate_html())"
   ]
  },
  {
   "cell_type": "markdown",
   "metadata": {},
   "source": [
    "### UMI-cutoff plots"
   ]
  },
  {
   "cell_type": "code",
   "execution_count": null,
   "metadata": {},
   "outputs": [],
   "source": [
    "visualizer = smk.pl.TabVisualizer()\n",
    "metric_desc = \"UMI-cutoff plots\"\n",
    "\n",
    "for run_mode, adata in run_modes_adatas.items():\n",
    "    plots = []\n",
    "    plot = smk.pl.Plot(\n",
    "        title=metric_desc,\n",
    "        description=f\"Distribution of {metric_desc.lower()} for run mode {run_mode}\",\n",
    "        plot_func=partial(smk.pl.umi_cutoff, adata)\n",
    "    )\n",
    "    plots.append(plot)\n",
    "    \n",
    "    group = smk.pl.PlotGroup(\n",
    "        name=f\"Run Mode: {run_mode}\",\n",
    "        description=f\"Analysis results for {run_mode}\",\n",
    "        plots=plots\n",
    "    )\n",
    "    \n",
    "    visualizer.add_plot_group(group)"
   ]
  },
  {
   "cell_type": "code",
   "execution_count": null,
   "metadata": {},
   "outputs": [],
   "source": [
    "display(visualizer.generate_html())"
   ]
  },
  {
   "cell_type": "markdown",
   "metadata": {},
   "source": [
    "### Histogram of metrics over beads\n",
    "\n",
    "Next we show mertics such as number of UMIs, genes, reads and pcr per physical spot. We further distinguish between each run mode, showing one histogram for each."
   ]
  },
  {
   "cell_type": "code",
   "execution_count": null,
   "metadata": {},
   "outputs": [],
   "source": [
    "visualizer = smk.pl.TabVisualizer()\n",
    "metric_desc = \"Nucleotide distribution per beads\"\n",
    "\n",
    "for run_mode, adata in run_modes_adatas.items():\n",
    "    plots = []\n",
    "    plot = smk.pl.Plot(\n",
    "        title=metric_desc,\n",
    "        description=f\"Distribution of {metric_desc.lower()} for run mode {run_mode}\",\n",
    "        plot_func=partial(smk.pl.nucleotide_distribution_beads, adata)\n",
    "    )\n",
    "    plots.append(plot)\n",
    "    \n",
    "    group = smk.pl.PlotGroup(\n",
    "        name=f\"Run Mode: {run_mode}\",\n",
    "        description=f\"Analysis results for {run_mode}\",\n",
    "        plots=plots\n",
    "    )\n",
    "    \n",
    "    visualizer.add_plot_group(group)"
   ]
  },
  {
   "cell_type": "code",
   "execution_count": null,
   "metadata": {},
   "outputs": [],
   "source": [
    "display(visualizer.generate_html())"
   ]
  },
  {
   "cell_type": "markdown",
   "metadata": {},
   "source": [
    "### Nucleotide distribution per beads\n",
    "\n",
    "Next we bin the data based on reads into quartile. For each run_mode the data is divided into 4 beads, by reads. This means, that the first bin will contain beads which account 25% of the reads, the second will contain beads which account for the second 25% of reads and so on.\n",
    "\n",
    "<b>For each run mode we plot the nucleotide distribution per quartile.</b>\n",
    "\n",
    "<b>Only not-meshed run_mode(s) are shown</b>"
   ]
  },
  {
   "cell_type": "code",
   "execution_count": null,
   "metadata": {},
   "outputs": [],
   "source": [
    "visualizer = smk.pl.TabVisualizer()\n",
    "metric_desc = \"Nucleotide distribution per beads\"\n",
    "\n",
    "for run_mode, adata in run_modes_adatas.items():\n",
    "    plots = []\n",
    "    plot = smk.pl.Plot(\n",
    "        title=metric_desc,\n",
    "        description=f\"Distribution of {metric_desc.lower()} for run mode {run_mode}\",\n",
    "        plot_func=partial(smk.pl.nucleotide_distribution_beads, adata)\n",
    "    )\n",
    "    plots.append(plot)\n",
    "    \n",
    "    group = smk.pl.PlotGroup(\n",
    "        name=f\"Run Mode: {run_mode}\",\n",
    "        description=f\"Analysis results for {run_mode}\",\n",
    "        plots=plots\n",
    "    )\n",
    "    \n",
    "    visualizer.add_plot_group(group)"
   ]
  },
  {
   "cell_type": "code",
   "execution_count": null,
   "metadata": {},
   "outputs": [],
   "source": [
    "display(visualizer.generate_html())"
   ]
  },
  {
   "cell_type": "markdown",
   "metadata": {},
   "source": [
    "### Shannon entropy and string compression"
   ]
  },
  {
   "cell_type": "code",
   "execution_count": null,
   "metadata": {},
   "outputs": [],
   "source": [
    "visualizer = smk.pl.TabVisualizer()\n",
    "metric_desc = \"Shannon Entropy and String Compression\"\n",
    "\n",
    "for run_mode, adata in run_modes_adatas.items():\n",
    "    plots = []\n",
    "    plot = smk.pl.Plot(\n",
    "        title=metric_desc,\n",
    "        description=f\"Distribution of {metric_desc.lower()} for run mode {run_mode}\",\n",
    "        plot_func=partial(smk.pl.entropy_compression, adata)\n",
    "    )\n",
    "    plots.append(plot)\n",
    "    \n",
    "    group = smk.pl.PlotGroup(\n",
    "        name=f\"Run Mode: {run_mode}\",\n",
    "        description=f\"Analysis results for {run_mode}\",\n",
    "        plots=plots\n",
    "    )\n",
    "    \n",
    "    visualizer.add_plot_group(group)"
   ]
  },
  {
   "cell_type": "code",
   "execution_count": null,
   "metadata": {},
   "outputs": [],
   "source": [
    "display(visualizer.generate_html())"
   ]
  },
  {
   "cell_type": "code",
   "execution_count": null,
   "metadata": {},
   "outputs": [],
   "source": [
    "if is_spatial:\n",
    "    print(\"WARNING: Notebook will not continue - it is not a spatial sample!\")\n",
    "    get_ipython().stop_here()"
   ]
  },
  {
   "cell_type": "markdown",
   "metadata": {},
   "source": [
    "### Spatial QC"
   ]
  },
  {
   "cell_type": "code",
   "execution_count": null,
   "metadata": {},
   "outputs": [],
   "source": [
    "spatial_metrics = {\n",
    "    \"n_genes_by_counts\": \"# of genes per spatial unit\",\n",
    "    \"total_counts\": \"# of UMIs per spatial unit\",\n",
    "    \"pct_counts_mt\": \"# % mt counts per spatial unit\",\n",
    "    \"n_reads\": \"# of reads per spatial unit\",\n",
    "    \"reads_per_counts\": \"reads/UMI per spatial unit\",\n",
    "    \"n_joined\": \"# beads joined per spatial unit\",\n",
    "    \"exact_entropy\": \"Shannon entropy per spatial unit\",\n",
    "    \"exact_compression\": \"barcode length after compression per spatial unit\",\n",
    "}"
   ]
  },
  {
   "cell_type": "code",
   "execution_count": null,
   "metadata": {},
   "outputs": [],
   "source": [
    "visualizer = smk.pl.TabVisualizer()\n",
    "\n",
    "for run_mode, adata in run_modes_adatas.items():\n",
    "    plots = []\n",
    "\n",
    "    for metric_key, metric_desc in spatial_metrics.items():\n",
    "        plot = smk.pl.Plot(\n",
    "            title=metric_desc,\n",
    "            description=f\"Distribution of {metric_desc.lower()} for run mode {run_mode}\",\n",
    "            plot_func=partial(smk.pl.spatial, adata, color=metric_key)\n",
    "        )\n",
    "        plots.append(plot)\n",
    "    \n",
    "    group = smk.pl.PlotGroup(\n",
    "        name=f\"Run Mode: {run_mode}\",\n",
    "        description=f\"Analysis results for {run_mode}\",\n",
    "        plots=plots\n",
    "    )\n",
    "    \n",
    "    visualizer.add_plot_group(group)"
   ]
  },
  {
   "cell_type": "code",
   "execution_count": null,
   "metadata": {},
   "outputs": [],
   "source": [
    "display(visualizer.generate_html())"
   ]
  }
 ],
 "metadata": {
  "kernelspec": {
   "display_name": "spacemake",
   "language": "python",
   "name": "python3"
  },
  "language_info": {
   "codemirror_mode": {
    "name": "ipython",
    "version": 3
   },
   "file_extension": ".py",
   "mimetype": "text/x-python",
   "name": "python",
   "nbconvert_exporter": "python",
   "pygments_lexer": "ipython3",
   "version": "3.10.14"
  }
 },
 "nbformat": 4,
 "nbformat_minor": 2
}
