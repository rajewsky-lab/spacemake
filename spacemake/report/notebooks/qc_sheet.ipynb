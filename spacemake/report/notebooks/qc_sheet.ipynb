{
 "cells": [
  {
   "cell_type": "markdown",
   "metadata": {},
   "source": [
    "# <b>spacemake</b> - Quality Control"
   ]
  },
  {
   "cell_type": "code",
   "execution_count": null,
   "metadata": {},
   "outputs": [],
   "source": [
    "import spacemake as smk\n",
    "from spacemake.config import ConfigFile\n",
    "from spacemake.project_df import ProjectDF\n",
    "from spacemake.report import utils as report_utils\n",
    "\n",
    "from IPython import get_ipython\n",
    "from functools import partial"
   ]
  },
  {
   "cell_type": "code",
   "execution_count": null,
   "metadata": {
    "tags": [
     "parameters"
    ]
   },
   "outputs": [],
   "source": [
    "# Parameters - this cell will be replaced by papermill\n",
    "\n",
    "run_modes = []\n",
    "adata_paths = []\n",
    "split_reads_read_type = \"path/to/reads_type_out\"\n",
    "project_id = \"project_id\"\n",
    "sample_id = \"sample_id\"\n",
    "puck_barcode_file_id_qc = \"puck_barcode_file_id\"\n",
    "complete_data_root = \"path/to/complete_data\"\n",
    "is_spatial = True\n",
    "config_yaml_path = \"config.yaml\"  # at the root spacemake folder\n",
    "project_df_path = \"project_df.csv\"  # at the root spacemake folder"
   ]
  },
  {
   "cell_type": "code",
   "execution_count": null,
   "metadata": {},
   "outputs": [],
   "source": [
    "config = ConfigFile.from_yaml(config_yaml_path)\n",
    "project_df = ProjectDF(project_df_path, config=config)\n",
    "sample_info = project_df.get_sample_info(project_id, sample_id)\n",
    "\n",
    "if isinstance(adata_paths, str):\n",
    "    adata_paths = [adata_paths]\n",
    "\n",
    "if isinstance(split_reads_read_type, str):\n",
    "    split_reads_read_type = [split_reads_read_type]\n",
    "\n",
    "if isinstance(run_modes, str) and run_modes is not None:\n",
    "    run_modes = [run_modes]\n",
    "elif run_modes is None:\n",
    "    run_modes = sample_info[\"run_mode\"]\n",
    "\n",
    "if (len(run_modes) == len(adata_paths)):\n",
    "    run_modes_adatas = {\n",
    "        f'{run_mode}': adata_path for run_mode, adata_path in zip(run_modes, adata_paths)\n",
    "    }\n",
    "else:\n",
    "    raise ValueError(\"'run_modes' and 'adata_paths' must have the same length\")"
   ]
  },
  {
   "cell_type": "markdown",
   "metadata": {},
   "source": [
    "## QC tables"
   ]
  },
  {
   "cell_type": "code",
   "execution_count": null,
   "metadata": {},
   "outputs": [],
   "source": [
    "sample_info_df = report_utils.create_sample_info_df(project_df, \n",
    "                                                    project_id, \n",
    "                                                    sample_id, \n",
    "                                                    puck_barcode_file_id_qc)\n",
    "run_modes_df = report_utils.create_run_modes_df(run_modes, project_df)\n",
    "mapping_stats_df = report_utils.create_mapping_stats_df(\n",
    "    split_reads_read_type,\n",
    "    complete_data_root\n",
    ")\n",
    "summary_beads_df = report_utils.create_summary_beads_df(\n",
    "    run_modes_adatas,\n",
    ")"
   ]
  },
  {
   "cell_type": "code",
   "execution_count": null,
   "metadata": {},
   "outputs": [],
   "source": [
    "visualizer = smk.pl.TabVisualizer()\n",
    "\n",
    "# Sample Information table\n",
    "visualizer.add_plot_group(\n",
    "        smk.pl.PlotGroup(\n",
    "        name=f\"Sample Information\",\n",
    "        description=f\"QC tables for the sample\",\n",
    "        plots=[smk.pl.DataFrameTable(\n",
    "            title=\"Sample Information\",\n",
    "            description=\"[Description]\",\n",
    "            data=sample_info_df\n",
    "        )]\n",
    "    )\n",
    ")\n",
    "\n",
    "# Run modes table\n",
    "visualizer.add_plot_group(\n",
    "        smk.pl.PlotGroup(\n",
    "        name=f\"Run modes\",\n",
    "        description=f\"QC tables for the sample\",\n",
    "        plots=[smk.pl.DataFrameTable(\n",
    "            title=\"Run modes\",\n",
    "            description=\"[Description]\",\n",
    "            data=run_modes_df\n",
    "        )]\n",
    "    )\n",
    ")\n",
    "\n",
    "# Mapping statistics table\n",
    "visualizer.add_plot_group(\n",
    "        smk.pl.PlotGroup(\n",
    "        name=f\"Mapping statistics\",\n",
    "        description=f\"QC tables for the sample\",\n",
    "        plots=[smk.pl.DataFrameTable(\n",
    "            title=\"Mapping statistics\",\n",
    "            description=\"[Description]\",\n",
    "            data=mapping_stats_df\n",
    "        )]\n",
    "    )\n",
    ")\n",
    "\n",
    "# Summary Beads table\n",
    "visualizer.add_plot_group(\n",
    "        smk.pl.PlotGroup(\n",
    "        name=f\"Summary Beads\",\n",
    "        description=f\"QC tables for the sample\",\n",
    "        plots=[smk.pl.DataFrameTable(\n",
    "            title=\"Summary Beads\",\n",
    "            description=\"[Description]\",\n",
    "            data=summary_beads_df\n",
    "        )]\n",
    "    )\n",
    ")"
   ]
  },
  {
   "cell_type": "markdown",
   "metadata": {},
   "source": [
    "## QC plots\n",
    "\n",
    "Each of the QC plots we show on a per run mode basis, to see if there are any downstream differences based on the run mode variable settings."
   ]
  },
  {
   "cell_type": "markdown",
   "metadata": {},
   "source": [
    "### 'Knee'-plot\n",
    "\n",
    "Below we plot a so called 'Knee'-plot: on the y-axis is the Cummulative sum of reads, on the x-axis are the bead barcodes sorted by number of reads. For single-cell samples, this plot tells you roughly how many beads are in the sample."
   ]
  },
  {
   "cell_type": "code",
   "execution_count": null,
   "metadata": {},
   "outputs": [],
   "source": [
    "visualizer = smk.pl.TabVisualizer()\n",
    "metric_desc = \"Knee-plot\"\n",
    "\n",
    "for run_mode, adata in run_modes_adatas.items():\n",
    "    plots = []\n",
    "    plot = smk.pl.Plot(\n",
    "        title=metric_desc,\n",
    "        description=f\"Knee-plot for run mode {run_mode}\",\n",
    "        plot_func=partial(smk.pl.knee_plot, adata)\n",
    "    )\n",
    "    plots.append(plot)\n",
    "    \n",
    "    group = smk.pl.PlotGroup(\n",
    "        name=f\"Run Mode: {run_mode}\",\n",
    "        description=f\"Analysis results for {run_mode}\",\n",
    "        plots=plots\n",
    "    )\n",
    "    \n",
    "    visualizer.add_plot_group(group)"
   ]
  },
  {
   "cell_type": "code",
   "execution_count": null,
   "metadata": {},
   "outputs": [],
   "source": [
    "display(visualizer.generate_html())"
   ]
  },
  {
   "cell_type": "markdown",
   "metadata": {},
   "source": [
    "### UMI-cutoff plots"
   ]
  },
  {
   "cell_type": "code",
   "execution_count": null,
   "metadata": {},
   "outputs": [],
   "source": [
    "visualizer = smk.pl.TabVisualizer()\n",
    "metric_desc = \"UMI-cutoff plots\"\n",
    "\n",
    "for run_mode, adata in run_modes_adatas.items():\n",
    "    plots = []\n",
    "    plot = smk.pl.Plot(\n",
    "        title=metric_desc,\n",
    "        description=f\"Distribution of {metric_desc.lower()} for run mode {run_mode}\",\n",
    "        plot_func=partial(smk.pl.umi_cutoff, adata)\n",
    "    )\n",
    "    plots.append(plot)\n",
    "    \n",
    "    group = smk.pl.PlotGroup(\n",
    "        name=f\"Run Mode: {run_mode}\",\n",
    "        description=f\"Analysis results for {run_mode}\",\n",
    "        plots=plots\n",
    "    )\n",
    "    \n",
    "    visualizer.add_plot_group(group)"
   ]
  },
  {
   "cell_type": "code",
   "execution_count": null,
   "metadata": {},
   "outputs": [],
   "source": [
    "display(visualizer.generate_html())"
   ]
  },
  {
   "cell_type": "markdown",
   "metadata": {},
   "source": [
    "### Histogram of metrics over beads\n",
    "\n",
    "Next we show mertics such as number of UMIs, genes, reads and pcr per physical spot. We further distinguish between each run mode, showing one histogram for each."
   ]
  },
  {
   "cell_type": "code",
   "execution_count": null,
   "metadata": {},
   "outputs": [],
   "source": [
    "visualizer = smk.pl.TabVisualizer()\n",
    "metric_desc = \"Histogram of metrics over beads\"\n",
    "\n",
    "for run_mode, adata in run_modes_adatas.items():\n",
    "    plots = []\n",
    "    plot = smk.pl.Plot(\n",
    "        title=metric_desc,\n",
    "        description=f\"Distribution of {metric_desc.lower()} for run mode {run_mode}\",\n",
    "        plot_func=partial(smk.pl.plot_histogram_beads, adata)\n",
    "    )\n",
    "    plots.append(plot)\n",
    "    \n",
    "    group = smk.pl.PlotGroup(\n",
    "        name=f\"Run Mode: {run_mode}\",\n",
    "        description=f\"Analysis results for {run_mode}\",\n",
    "        plots=plots\n",
    "    )\n",
    "    \n",
    "    visualizer.add_plot_group(group)"
   ]
  },
  {
   "cell_type": "code",
   "execution_count": null,
   "metadata": {},
   "outputs": [],
   "source": [
    "display(visualizer.generate_html())"
   ]
  },
  {
   "cell_type": "markdown",
   "metadata": {},
   "source": [
    "### Nucleotide distribution per beads\n",
    "\n",
    "Next we bin the data based on reads into quartile. For each run_mode the data is divided into 4 beads, by reads. This means, that the first bin will contain beads which account 25% of the reads, the second will contain beads which account for the second 25% of reads and so on.\n",
    "\n",
    "<b>For each run mode we plot the nucleotide distribution per quartile.</b>\n",
    "\n",
    "<b>Only not-meshed run_mode(s) are shown</b>"
   ]
  },
  {
   "cell_type": "code",
   "execution_count": null,
   "metadata": {},
   "outputs": [],
   "source": [
    "visualizer = smk.pl.TabVisualizer()\n",
    "metric_desc = \"Nucleotide distribution per beads\"\n",
    "\n",
    "for run_mode, adata in run_modes_adatas.items():\n",
    "    plots = []\n",
    "    plot = smk.pl.Plot(\n",
    "        title=metric_desc,\n",
    "        description=f\"Distribution of {metric_desc.lower()} for run mode {run_mode}\",\n",
    "        plot_func=partial(smk.pl.nucleotide_distribution_per_bead, adata)\n",
    "    )\n",
    "    plots.append(plot)\n",
    "    \n",
    "    group = smk.pl.PlotGroup(\n",
    "        name=f\"Run Mode: {run_mode}\",\n",
    "        description=f\"Analysis results for {run_mode}\",\n",
    "        plots=plots\n",
    "    )\n",
    "    \n",
    "    visualizer.add_plot_group(group)"
   ]
  },
  {
   "cell_type": "code",
   "execution_count": null,
   "metadata": {},
   "outputs": [],
   "source": [
    "try:\n",
    "    display(visualizer.generate_html())\n",
    "except KeyError as e:\n",
    "    print(f\"Cannot show these plots with this run mode, because of {e}\")"
   ]
  },
  {
   "cell_type": "markdown",
   "metadata": {},
   "source": [
    "### Shannon entropy and string compression"
   ]
  },
  {
   "cell_type": "code",
   "execution_count": null,
   "metadata": {},
   "outputs": [],
   "source": [
    "visualizer = smk.pl.TabVisualizer()\n",
    "metric_desc = \"Shannon Entropy and String Compression\"\n",
    "\n",
    "for run_mode, adata in run_modes_adatas.items():\n",
    "    plots = []\n",
    "    plot = smk.pl.Plot(\n",
    "        title=metric_desc,\n",
    "        description=f\"Distribution of {metric_desc.lower()} for run mode {run_mode}\",\n",
    "        plot_func=partial(smk.pl.entropy_compression, adata)\n",
    "    )\n",
    "    plots.append(plot)\n",
    "    \n",
    "    group = smk.pl.PlotGroup(\n",
    "        name=f\"Run Mode: {run_mode}\",\n",
    "        description=f\"Analysis results for {run_mode}\",\n",
    "        plots=plots\n",
    "    )\n",
    "    \n",
    "    visualizer.add_plot_group(group)"
   ]
  },
  {
   "cell_type": "code",
   "execution_count": null,
   "metadata": {},
   "outputs": [],
   "source": [
    "display(visualizer.generate_html())"
   ]
  },
  {
   "cell_type": "code",
   "execution_count": null,
   "metadata": {},
   "outputs": [],
   "source": [
    "if not is_spatial:\n",
    "    print(\"WARNING: This is not a spatial sample. Some analyses will be skipped.\")\n",
    "    # Define a variable to track whether to continue with spatial-specific code\n",
    "    continue_spatial_analyses = False\n",
    "else:\n",
    "    continue_spatial_analyses = True"
   ]
  },
  {
   "cell_type": "markdown",
   "metadata": {},
   "source": [
    "### Spatial QC"
   ]
  },
  {
   "cell_type": "code",
   "execution_count": null,
   "metadata": {},
   "outputs": [],
   "source": [
    "spatial_metrics = {\n",
    "    \"n_genes_by_counts\": \"# of genes per spatial unit\",\n",
    "    \"total_counts\": \"# of UMIs per spatial unit\",\n",
    "    \"pct_counts_mt\": \"# % mt counts per spatial unit\",\n",
    "    \"n_reads\": \"# of reads per spatial unit\",\n",
    "    \"reads_per_counts\": \"reads/UMI per spatial unit\",\n",
    "    \"n_joined\": \"# beads joined per spatial unit\",\n",
    "    \"exact_entropy\": \"Shannon entropy per spatial unit\",\n",
    "    \"exact_compression\": \"barcode length after compression per spatial unit\",\n",
    "}"
   ]
  },
  {
   "cell_type": "code",
   "execution_count": null,
   "metadata": {},
   "outputs": [],
   "source": [
    "if continue_spatial_analyses:\n",
    "    visualizer = smk.pl.TabVisualizer()\n",
    "\n",
    "    for run_mode, adata in run_modes_adatas.items():\n",
    "        plots = []\n",
    "\n",
    "        for metric_key, metric_desc in spatial_metrics.items():\n",
    "            plot = smk.pl.Plot(\n",
    "                title=metric_desc,\n",
    "                description=f\"Distribution of {metric_desc.lower()} for run mode {run_mode}\",\n",
    "                plot_func=partial(smk.pl.spatial, adata, color=metric_key)\n",
    "            )\n",
    "            plots.append(plot)\n",
    "        \n",
    "        group = smk.pl.PlotGroup(\n",
    "            name=f\"Run Mode: {run_mode}\",\n",
    "            description=f\"Analysis results for {run_mode}\",\n",
    "            plots=plots\n",
    "        )\n",
    "        \n",
    "        visualizer.add_plot_group(group)"
   ]
  },
  {
   "cell_type": "code",
   "execution_count": null,
   "metadata": {},
   "outputs": [],
   "source": [
    "if continue_spatial_analyses:\n",
    "    try:\n",
    "        display(visualizer.generate_html())\n",
    "    except KeyError as e:\n",
    "        print(f\"Could not plot because of {e}\")"
   ]
  }
 ],
 "metadata": {
  "kernelspec": {
   "display_name": "spacemake",
   "language": "python",
   "name": "python3"
  },
  "language_info": {
   "codemirror_mode": {
    "name": "ipython",
    "version": 3
   },
   "file_extension": ".py",
   "mimetype": "text/x-python",
   "name": "python",
   "nbconvert_exporter": "python",
   "pygments_lexer": "ipython3",
   "version": "3.10.14"
  }
 },
 "nbformat": 4,
 "nbformat_minor": 2
}
