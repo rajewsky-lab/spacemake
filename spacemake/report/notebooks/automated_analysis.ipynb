{
 "cells": [
  {
   "cell_type": "markdown",
   "metadata": {},
   "source": [
    "# <b>spacemake</b> - Automated Analysis"
   ]
  },
  {
   "cell_type": "code",
   "execution_count": null,
   "metadata": {},
   "outputs": [],
   "source": [
    "import numpy as np\n",
    "import scanpy as sc\n",
    "import spacemake as smk\n",
    "from spacemake.spatial import util as spatial_util\n",
    "from spacemake.report import utils as report_utils\n",
    "import matplotlib.pyplot as plt\n",
    "\n",
    "from functools import partial"
   ]
  },
  {
   "cell_type": "code",
   "execution_count": null,
   "metadata": {},
   "outputs": [],
   "source": [
    "import os\n",
    "\n",
    "# limit the resources used by scanpy\n",
    "os.environ['OMP_NUM_THREADS'] = '1'   # For OpenMP\n",
    "os.environ['OPENBLAS_NUM_THREADS'] = '1'  # For OpenBLAS\n",
    "os.environ['MKL_NUM_THREADS'] = '1'  # For MKL (Intel Math Kernel Library)\n",
    "os.environ['VECLIB_MAXIMUM_THREADS'] = '1'  # For macOS Accelerate\n",
    "os.environ['NUMEXPR_NUM_THREADS'] = '1'  # For NumExpr"
   ]
  },
  {
   "cell_type": "markdown",
   "metadata": {},
   "source": [
    "### Loading and cleaning-up the data"
   ]
  },
  {
   "cell_type": "code",
   "execution_count": null,
   "metadata": {
    "tags": [
     "parameters"
    ]
   },
   "outputs": [],
   "source": [
    "# Parameters - this cell will be replaced by papermill\n",
    "adata_path = \"path/to/adata.h5ad\"\n",
    "umi_cutoff = 100\n",
    "clustering_resolutions = [0.4, 0.6, 0.8, 1.0, 1.2]\n",
    "detect_tissue = True\n",
    "adata_output = \"path/to/output.h5ad\"\n",
    "is_spatial = True\n",
    "\n",
    "N_CELLS_MIN = 100  # minimum number of cells to proceed with analysis\n",
    "N_GENES_MIN = 1000  # minimum number of genes to proceed with analysis"
   ]
  },
  {
   "cell_type": "code",
   "execution_count": null,
   "metadata": {},
   "outputs": [],
   "source": [
    "adata = sc.read_h5ad(adata_path)\n",
    "\n",
    "if 'spatial' in adata.obsm.keys() and detect_tissue:\n",
    "    adata = spatial_util(adata, umi_cutoff)\n",
    "else:\n",
    "    adata = adata[adata.obs.total_counts > umi_cutoff, :]\n",
    "\n",
    "adata.obs_names_make_unique()\n",
    "adata.var_names_make_unique()\n",
    "adata.raw = adata\n",
    "\n",
    "ncells, ngenes = adata.shape\n",
    "\n",
    "if ncells < N_CELLS_MIN or ngenes <= N_GENES_MIN:\n",
    "    adata.write(adata_output)\n",
    "    print(\"Notebook cannot continue because there are too few cells or too few genes!\")\n",
    "    import sys\n",
    "    sys.exit(0)"
   ]
  },
  {
   "cell_type": "markdown",
   "metadata": {},
   "source": [
    "## Overview of sample metrics"
   ]
  },
  {
   "cell_type": "code",
   "execution_count": null,
   "metadata": {},
   "outputs": [],
   "source": [
    "metrics_table_df = report_utils.create_metrics_table_df(adata, umi_cutoff)"
   ]
  },
  {
   "cell_type": "code",
   "execution_count": null,
   "metadata": {},
   "outputs": [],
   "source": [
    "visualizer = smk.pl.TabVisualizer()\n",
    "\n",
    "visualizer.add_plot_group(\n",
    "        smk.pl.PlotGroup(\n",
    "        name=f\"Summary Beads\",\n",
    "        description=f\"QC tables for the sample\",\n",
    "        plots=[smk.pl.DataFrameTable(\n",
    "            title=\"Summary Beads\",\n",
    "            description=\"[Description]\",\n",
    "            data=metrics_table_df\n",
    "        )]\n",
    "    )\n",
    ")"
   ]
  },
  {
   "cell_type": "code",
   "execution_count": null,
   "metadata": {},
   "outputs": [],
   "source": [
    "display(visualizer.generate_html())"
   ]
  },
  {
   "cell_type": "markdown",
   "metadata": {},
   "source": [
    "## Histogram of sample metrics"
   ]
  },
  {
   "cell_type": "code",
   "execution_count": null,
   "metadata": {},
   "outputs": [],
   "source": [
    "# Set as multi histogram function?\n",
    "metrics = {'n_reads': '# of reads',\n",
    "           'reads_per_counts': '# of reads/UMI',\n",
    "           'n_genes_by_counts': '# of genes',\n",
    "           'total_counts': '# of UMIs',\n",
    "           'pct_counts_mt': '% of mitochondrial counts'}\n",
    "\n",
    "metrics_colors = {\n",
    "    \"total_counts\": \"#E69F00\",\n",
    "    \"n_genes_by_counts\": \"#56B4E9\",\n",
    "    \"n_reads\": \"#009E73\",\n",
    "    \"reads_per_counts\": \"#CC79A7\",\n",
    "    \"pct_counts_mt\": \"black\",\n",
    "}\n",
    "\n",
    "fig, axes = plt.subplots(3, 2, figsize=(7, 6))\n",
    "for i, (metric_key, metric_desc) in enumerate(metrics.items()):\n",
    "    smk.pl.histogram(adata.obs[metric_key], axes.flatten()[i], 100, metrics_colors[metric_key])\n",
    "    axes.flatten()[i].set_ylabel(\"# of\\nspatial units\")\n",
    "    axes.flatten()[i].set_xlabel(metric_desc)\n",
    "\n",
    "axes[2, 1].axis(\"off\")\n",
    "plt.tight_layout()"
   ]
  },
  {
   "cell_type": "markdown",
   "metadata": {},
   "source": [
    "## Distribution of UMIs in 2D\n",
    "- <b>Original data</b> = original UMI counts\n",
    "\n",
    "- <b>Scaled data</b> = the top 10% of UMIs (ordered high to low) are set to the minimum UMI of the first 10% UMIs, for visualisation purposes."
   ]
  },
  {
   "cell_type": "markdown",
   "metadata": {},
   "source": [
    "### Original"
   ]
  },
  {
   "cell_type": "code",
   "execution_count": null,
   "metadata": {},
   "outputs": [],
   "source": [
    "smk.pl.spatial(adata, color=\"total_counts\")"
   ]
  },
  {
   "cell_type": "markdown",
   "metadata": {},
   "source": [
    "### Scaled"
   ]
  },
  {
   "cell_type": "code",
   "execution_count": null,
   "metadata": {},
   "outputs": [],
   "source": [
    "smk.pl.spatial(adata, color=\"total_counts\", vmax=np.nanquantile(adata.obs[\"total_counts\"], 0.9))"
   ]
  },
  {
   "cell_type": "markdown",
   "metadata": {},
   "source": [
    "## Clustering and markers"
   ]
  },
  {
   "cell_type": "markdown",
   "metadata": {},
   "source": [
    "### Highly variable genes and normalisation"
   ]
  },
  {
   "cell_type": "code",
   "execution_count": null,
   "metadata": {},
   "outputs": [],
   "source": [
    "sc.pp.normalize_total(adata)\n",
    "sc.pp.log1p(adata, base=2)\n",
    "sc.pp.highly_variable_genes(adata, flavor='seurat', n_top_genes=2000)"
   ]
  },
  {
   "cell_type": "markdown",
   "metadata": {},
   "source": [
    "### Dimensionality reduction and clustering"
   ]
  },
  {
   "cell_type": "code",
   "execution_count": null,
   "metadata": {},
   "outputs": [],
   "source": [
    "sc.tl.pca(adata, svd_solver='arpack')\n",
    "n_pcs = adata.uns['pca']['variance'].size\n",
    "n_pcs = n_pcs if n_pcs < 40 else 40\n",
    "\n",
    "sc.pp.neighbors(adata, n_pcs=n_pcs)\n",
    "try:\n",
    "    sc.tl.umap(adata)   \n",
    "except TypeError:\n",
    "    pass"
   ]
  },
  {
   "cell_type": "markdown",
   "metadata": {},
   "source": [
    "### Clustering and spatial plotting"
   ]
  },
  {
   "cell_type": "code",
   "execution_count": null,
   "metadata": {},
   "outputs": [],
   "source": [
    "for res in clustering_resolutions:\n",
    "    try:\n",
    "        res_key = 'leiden_' + str(res)\n",
    "        \n",
    "        sc.tl.leiden(adata, resolution = res, key_added = res_key)\n",
    "        sc.tl.rank_genes_groups(adata, res_key, method='t-test', key_added = 'rank_genes_groups_' + res_key, pts=True,\n",
    "            use_raw = False)\n",
    "    except ZeroDivisionError as e:\n",
    "        pass"
   ]
  },
  {
   "cell_type": "markdown",
   "metadata": {},
   "source": [
    "### Saving the final object"
   ]
  },
  {
   "cell_type": "code",
   "execution_count": null,
   "metadata": {},
   "outputs": [],
   "source": [
    "adata.write(adata_output)"
   ]
  },
  {
   "cell_type": "markdown",
   "metadata": {},
   "source": [
    "### Visualization"
   ]
  },
  {
   "cell_type": "code",
   "execution_count": null,
   "metadata": {},
   "outputs": [],
   "source": [
    "visualizer = smk.pl.TabVisualizer()\n",
    "metric_desc = \"Spatial visualization of clustering results\"\n",
    "\n",
    "for res in clustering_resolutions:\n",
    "    plots = []\n",
    "    # UMAP\n",
    "    plot = smk.pl.Plot(\n",
    "        title=metric_desc,\n",
    "        description=f\"Clusters in UMAP space for leiden resolution {res}\",\n",
    "        plot_func=partial(smk.pl.umap, adata, color=f'leiden_{res}')\n",
    "    )\n",
    "    plots.append(plot)\n",
    "\n",
    "    if is_spatial:\n",
    "        # Spatial clusters\n",
    "        plot = smk.pl.Plot(\n",
    "            title=metric_desc,\n",
    "            description=f\"Clusters in physical space for leiden resolution {res}\",\n",
    "            plot_func=partial(smk.pl.spatial, adata, color=f'leiden_{res}')\n",
    "        )\n",
    "        plots.append(plot)\n",
    "\n",
    "    group = smk.pl.PlotGroup(\n",
    "        name=f\"Resolution: {res}\",\n",
    "        description=f\"Analysis results for resolution {res}\",\n",
    "        plots=plots\n",
    "    )\n",
    "    \n",
    "    visualizer.add_plot_group(group)"
   ]
  },
  {
   "cell_type": "code",
   "execution_count": null,
   "metadata": {},
   "outputs": [],
   "source": [
    "display(visualizer.generate_html())"
   ]
  },
  {
   "cell_type": "code",
   "execution_count": null,
   "metadata": {},
   "outputs": [],
   "source": [
    "# # [...] or, you can generate the plots yourself!\n",
    "\n",
    "# resolution = clustering_resolutions[0]\n",
    "\n",
    "# smk.pl.umap(adata, key=f\"leiden_{resolution}\")\n",
    "\n",
    "# # Spatial\n",
    "# smk.pl.spatial(adata, color=f\"leiden_{resolution}\")"
   ]
  }
 ],
 "metadata": {
  "kernelspec": {
   "display_name": "spacemake",
   "language": "python",
   "name": "python3"
  },
  "language_info": {
   "codemirror_mode": {
    "name": "ipython",
    "version": 3
   },
   "file_extension": ".py",
   "mimetype": "text/x-python",
   "name": "python",
   "nbconvert_exporter": "python",
   "pygments_lexer": "ipython3",
   "version": "3.10.14"
  }
 },
 "nbformat": 4,
 "nbformat_minor": 2
}
