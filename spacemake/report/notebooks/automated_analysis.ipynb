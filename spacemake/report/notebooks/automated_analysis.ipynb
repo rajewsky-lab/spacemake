{
 "cells": [
  {
   "cell_type": "markdown",
   "metadata": {},
   "source": [
    "# <b>spacemake</b> - Automated Analysis"
   ]
  },
  {
   "cell_type": "code",
   "execution_count": null,
   "metadata": {},
   "outputs": [],
   "source": [
    "import os\n",
    "\n",
    "# limit the resources used by scanpy\n",
    "os.environ['OMP_NUM_THREADS'] = '1'\n",
    "os.environ['OPENBLAS_NUM_THREADS'] = '1'\n",
    "os.environ['MKL_NUM_THREADS'] = '1'\n",
    "os.environ['VECLIB_MAXIMUM_THREADS'] = '1'\n",
    "os.environ['NUMEXPR_NUM_THREADS'] = '1'\n",
    "os.environ['NUMBA_NUM_THREADS'] = '1'"
   ]
  },
  {
   "cell_type": "code",
   "execution_count": null,
   "metadata": {},
   "outputs": [],
   "source": [
    "import numpy as np\n",
    "import scanpy as sc\n",
    "import spacemake as smk\n",
    "from spacemake.spatial import util as spatial_util\n",
    "from spacemake.report import utils as report_utils\n",
    "import matplotlib.pyplot as plt\n",
    "import warnings\n",
    "\n",
    "from functools import partial\n",
    "sc.settings.n_jobs = 1\n",
    "warnings.filterwarnings('ignore')"
   ]
  },
  {
   "cell_type": "code",
   "execution_count": null,
   "metadata": {
    "tags": [
     "parameters"
    ]
   },
   "outputs": [],
   "source": [
    "# Parameters - this cell will be replaced by papermill\n",
    "adata_path = \"path/to/adata.h5ad\"\n",
    "umi_cutoff = 100\n",
    "clustering_resolutions = [0.4, 0.6, 0.8, 1.0, 1.2]\n",
    "detect_tissue = True\n",
    "adata_output = \"path/to/output.h5ad\"\n",
    "is_spatial = True\n",
    "\n",
    "N_CELLS_MIN = 100  # minimum number of cells to proceed with analysis\n",
    "N_GENES_MIN = 1000  # minimum number of genes to proceed with analysis"
   ]
  },
  {
   "cell_type": "code",
   "execution_count": null,
   "metadata": {},
   "outputs": [],
   "source": [
    "# Loading and cleaning-up the data\n",
    "adata = sc.read_h5ad(adata_path)\n",
    "\n",
    "if 'spatial' in adata.obsm.keys() and detect_tissue:\n",
    "    adata = spatial_util(adata, umi_cutoff)\n",
    "else:\n",
    "    adata = adata[adata.obs.total_counts > umi_cutoff, :]\n",
    "\n",
    "adata.obs_names_make_unique()\n",
    "adata.var_names_make_unique()\n",
    "adata.raw = adata\n",
    "\n",
    "ncells, ngenes = adata.shape\n",
    "\n",
    "if ncells < N_CELLS_MIN or ngenes <= N_GENES_MIN:\n",
    "    adata.write(adata_output)\n",
    "    print(\"Notebook cannot continue because there are too few cells or too few genes!\")\n",
    "    import sys\n",
    "    sys.exit(0)"
   ]
  },
  {
   "cell_type": "markdown",
   "metadata": {},
   "source": [
    "## Overview of sample metrics"
   ]
  },
  {
   "cell_type": "code",
   "execution_count": null,
   "metadata": {},
   "outputs": [],
   "source": [
    "metrics_table_df = report_utils.create_metrics_table_df(adata, umi_cutoff)"
   ]
  },
  {
   "cell_type": "code",
   "execution_count": null,
   "metadata": {},
   "outputs": [],
   "source": [
    "visualizer = smk.pl.TabVisualizer()\n",
    "\n",
    "visualizer.add_plot_group(\n",
    "        smk.pl.PlotGroup(\n",
    "        name=f\"Summary Beads\",\n",
    "        description=f\"QC tables for the sample\",\n",
    "        plots=[smk.pl.DataFrameTable(\n",
    "            title=\"Summary Beads\",\n",
    "            description=\"[Description]\",\n",
    "            data=metrics_table_df\n",
    "        )]\n",
    "    )\n",
    ")"
   ]
  },
  {
   "cell_type": "code",
   "execution_count": null,
   "metadata": {},
   "outputs": [],
   "source": [
    "display(visualizer.generate_html())"
   ]
  },
  {
   "cell_type": "markdown",
   "metadata": {},
   "source": [
    "## Histogram of sample metrics"
   ]
  },
  {
   "cell_type": "code",
   "execution_count": null,
   "metadata": {},
   "outputs": [],
   "source": [
    "# Set as multi histogram function?\n",
    "metrics = {'n_reads': '# of reads',\n",
    "           'reads_per_counts': '# of reads/UMI',\n",
    "           'n_genes_by_counts': '# of genes',\n",
    "           'total_counts': '# of UMIs',\n",
    "           'pct_counts_mt': '% of mitochondrial counts'}\n",
    "\n",
    "metrics_colors = {\n",
    "    \"total_counts\": \"#E69F00\",\n",
    "    \"n_genes_by_counts\": \"#56B4E9\",\n",
    "    \"n_reads\": \"#009E73\",\n",
    "    \"reads_per_counts\": \"#CC79A7\",\n",
    "    \"pct_counts_mt\": \"black\",\n",
    "}\n",
    "\n",
    "fig, axes = plt.subplots(3, 2, figsize=(7, 6))\n",
    "for i, (metric_key, metric_desc) in enumerate(metrics.items()):\n",
    "    smk.pl.histogram(adata.obs[metric_key], axes.flatten()[i], 100, metrics_colors[metric_key])\n",
    "    axes.flatten()[i].set_ylabel(\"# of\\nspatial units\")\n",
    "    axes.flatten()[i].set_xlabel(metric_desc)\n",
    "\n",
    "axes[2, 1].axis(\"off\")\n",
    "plt.tight_layout()"
   ]
  },
  {
   "cell_type": "markdown",
   "metadata": {},
   "source": [
    "## Distribution of UMIs in 2D\n",
    "- <b>Original data</b> = original UMI counts\n",
    "\n",
    "- <b>Scaled data</b> = the top 10% of UMIs (ordered high to low) are set to the minimum UMI of the first 10% UMIs, for visualisation purposes."
   ]
  },
  {
   "cell_type": "markdown",
   "metadata": {},
   "source": [
    "### Original"
   ]
  },
  {
   "cell_type": "code",
   "execution_count": null,
   "metadata": {},
   "outputs": [],
   "source": [
    "smk.pl.spatial(adata, color=\"total_counts\")"
   ]
  },
  {
   "cell_type": "markdown",
   "metadata": {},
   "source": [
    "### Scaled"
   ]
  },
  {
   "cell_type": "code",
   "execution_count": null,
   "metadata": {},
   "outputs": [],
   "source": [
    "smk.pl.spatial(adata, color=\"total_counts\", vmax=np.nanquantile(adata.obs[\"total_counts\"], 0.9))"
   ]
  },
  {
   "cell_type": "markdown",
   "metadata": {},
   "source": [
    "## Clustering and markers"
   ]
  },
  {
   "cell_type": "code",
   "execution_count": null,
   "metadata": {},
   "outputs": [],
   "source": [
    "### Highly variable genes and normalisation\n",
    "sc.pp.normalize_total(adata)\n",
    "sc.pp.log1p(adata, base=2)\n",
    "sc.pp.highly_variable_genes(adata, flavor='seurat', n_top_genes=2000)"
   ]
  },
  {
   "cell_type": "code",
   "execution_count": null,
   "metadata": {},
   "outputs": [],
   "source": [
    "### Dimensionality reduction and clustering\n",
    "sc.tl.pca(adata, svd_solver='arpack')\n",
    "n_pcs = adata.uns['pca']['variance'].size\n",
    "n_pcs = n_pcs if n_pcs < 40 else 40\n",
    "\n",
    "sc.pp.neighbors(adata, n_pcs=n_pcs)\n",
    "try:\n",
    "    sc.tl.umap(adata)   \n",
    "except TypeError:\n",
    "    pass"
   ]
  },
  {
   "cell_type": "code",
   "execution_count": null,
   "metadata": {},
   "outputs": [],
   "source": [
    "### Clustering and spatial plotting\n",
    "for res in clustering_resolutions:\n",
    "    try:\n",
    "        res_key = 'leiden_' + str(res)\n",
    "        \n",
    "        sc.tl.leiden(adata, resolution = res, key_added = res_key)\n",
    "        sc.tl.rank_genes_groups(adata, res_key, method='t-test', key_added = 'rank_genes_groups_' + res_key, pts=True,\n",
    "            use_raw = False)\n",
    "    except ZeroDivisionError as e:\n",
    "        pass"
   ]
  },
  {
   "cell_type": "code",
   "execution_count": null,
   "metadata": {},
   "outputs": [],
   "source": [
    "### Saving the final object\n",
    "adata.write(adata_output)"
   ]
  },
  {
   "cell_type": "markdown",
   "metadata": {},
   "source": [
    "### Visualization"
   ]
  },
  {
   "cell_type": "code",
   "execution_count": null,
   "metadata": {},
   "outputs": [],
   "source": [
    "visualizer = smk.pl.TabVisualizer()\n",
    "metric_desc = \"Spatial visualization of clustering results\"\n",
    "\n",
    "for res in clustering_resolutions:\n",
    "    plots = []\n",
    "    # UMAP\n",
    "    plot = smk.pl.Plot(\n",
    "        title=metric_desc,\n",
    "        description=f\"Clusters in UMAP space for leiden resolution {res}\",\n",
    "        plot_func=partial(smk.pl.umap, adata, color=f'leiden_{res}')\n",
    "    )\n",
    "    plots.append(plot)\n",
    "\n",
    "    if is_spatial:\n",
    "        # Spatial clusters\n",
    "        plot = smk.pl.Plot(\n",
    "            title=metric_desc,\n",
    "            description=f\"Clusters in physical space for leiden resolution {res}\",\n",
    "            plot_func=partial(smk.pl.spatial, adata, color=f'leiden_{res}')\n",
    "        )\n",
    "        plots.append(plot)\n",
    "\n",
    "    group = smk.pl.PlotGroup(\n",
    "        name=f\"Resolution: {res}\",\n",
    "        description=f\"Analysis results for resolution {res}\",\n",
    "        plots=plots\n",
    "    )\n",
    "    \n",
    "    visualizer.add_plot_group(group)"
   ]
  },
  {
   "cell_type": "code",
   "execution_count": null,
   "metadata": {},
   "outputs": [],
   "source": [
    "display(visualizer.generate_html())"
   ]
  },
  {
   "cell_type": "code",
   "execution_count": null,
   "metadata": {},
   "outputs": [],
   "source": [
    "# # [...] or, you can generate the plots yourself!\n",
    "\n",
    "# resolution = clustering_resolutions[0]\n",
    "\n",
    "# smk.pl.umap(adata, key=f\"leiden_{resolution}\")\n",
    "\n",
    "# # Spatial\n",
    "# smk.pl.spatial(adata, color=f\"leiden_{resolution}\")"
   ]
  },
  {
   "cell_type": "markdown",
   "metadata": {},
   "source": [
    "### Marker genes"
   ]
  },
  {
   "cell_type": "code",
   "execution_count": null,
   "metadata": {},
   "outputs": [],
   "source": [
    "marker_visualizer = smk.pl.TabVisualizer(title=\"Marker Genes per Cluster\")\n",
    "\n",
    "for res in clustering_resolutions:\n",
    "    res_key = 'leiden_' + str(res)\n",
    "    rank_key = 'rank_genes_groups_' + res_key\n",
    "    \n",
    "    if rank_key in adata.uns and 'names' in adata.uns[rank_key]:\n",
    "        marker_df = smk.pl.marker_gene_table(adata, rank_key=rank_key)\n",
    "        \n",
    "        if marker_df is not None:\n",
    "            marker_df_display = marker_df.copy()\n",
    "            \n",
    "            numerical_cols = ['logfoldchanges', 'pvals', 'pvals_adj', 'pts', 'pts_rest']\n",
    "            for col in numerical_cols:\n",
    "                if col in marker_df_display.columns:\n",
    "                    marker_df_display[col] = marker_df_display[col].round(4)\n",
    "            \n",
    "            marker_df_display = marker_df_display.sort_values(['cluster', 'pvals_adj'])\n",
    "            \n",
    "            top_markers = marker_df_display.groupby('cluster').head(20).reset_index(drop=True)\n",
    "            \n",
    "            # Create paginated table with custom formatting\n",
    "            marker_table = smk.pl.PaginatedDataFrameTable(\n",
    "                title=f\"Top Marker Genes - Resolution {res}\",\n",
    "                description=f\"Top 10 marker genes per cluster for Leiden clustering at resolution {res}. Genes are ranked by adjusted p-value.\",\n",
    "                data=top_markers,\n",
    "                rows_per_page=20,\n",
    "                columns={\n",
    "                    'cluster': smk.pl.Column(name='Cluster', description='Cluster ID'),\n",
    "                    'gene': smk.pl.Column(name='Gene', description='Gene symbol'),\n",
    "                    'logfoldchanges': smk.pl.Column(name='Log2FC', description='Log2 fold change'),\n",
    "                    'pvals': smk.pl.Column(name='P-value', description='P-value from t-test'),\n",
    "                    'pvals_adj': smk.pl.Column(name='Adj. P-value', description='Adjusted p-value (Benjamini-Hochberg)'),\n",
    "                    'pts': smk.pl.Column(name='Pct in cluster', description='Percentage of cells in cluster expressing gene'),\n",
    "                    'pts_rest': smk.pl.Column(name='Pct in rest', description='Percentage of cells outside cluster expressing gene')\n",
    "                }\n",
    "            )\n",
    "            \n",
    "            marker_group = smk.pl.PlotGroup(\n",
    "                name=f\"Resolution {res}\",\n",
    "                description=f\"Marker genes for clustering resolution {res}\",\n",
    "                plots=[marker_table]\n",
    "            )\n",
    "            \n",
    "            marker_visualizer.add_plot_group(marker_group)"
   ]
  },
  {
   "cell_type": "code",
   "execution_count": null,
   "metadata": {},
   "outputs": [],
   "source": [
    "if len(marker_visualizer.plot_groups) > 0:\n",
    "    display(marker_visualizer.generate_html())\n",
    "else:\n",
    "    print(\"No marker genes tables to display. This may happen if clustering failed for all resolutions.\")"
   ]
  }
 ],
 "metadata": {
  "kernelspec": {
   "display_name": "spacemake",
   "language": "python",
   "name": "python3"
  },
  "language_info": {
   "codemirror_mode": {
    "name": "ipython",
    "version": 3
   },
   "file_extension": ".py",
   "mimetype": "text/x-python",
   "name": "python",
   "nbconvert_exporter": "python",
   "pygments_lexer": "ipython3",
   "version": "3.10.14"
  }
 },
 "nbformat": 4,
 "nbformat_minor": 2
}
