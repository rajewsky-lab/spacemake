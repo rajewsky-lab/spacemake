{
 "cells": [
  {
   "cell_type": "markdown",
   "metadata": {},
   "source": [
    "# <b>spacemake</b> - Saturation Analysis"
   ]
  },
  {
   "cell_type": "code",
   "execution_count": null,
   "metadata": {},
   "outputs": [],
   "source": [
    "import spacemake as smk\n",
    "from spacemake.config import ConfigFile\n",
    "from spacemake.project_df import ProjectDF\n",
    "from spacemake.report import utils as report_utils\n",
    "\n",
    "import datetime\n",
    "from functools import partial"
   ]
  },
  {
   "cell_type": "code",
   "execution_count": null,
   "metadata": {
    "tags": [
     "parameters"
    ]
   },
   "outputs": [],
   "source": [
    "run_modes = []\n",
    "downsampled_dge_summary = {}\n",
    "project_id = \"project_id\"\n",
    "sample_id = \"sample_id\"\n",
    "puck_barcode_file_id = \"puck_barcode_file_id\"\n",
    "config_yaml_path = \"config.yaml\"  # at the root spacemake folder\n",
    "project_df_path = \"project_df.csv\"  # at the root spacemake folder\n",
    "\n",
    "PCT_DOWNSAMPLE_TO_PLOT = [20, 40, 60, 80, 100]\n",
    "DOWNSAMPLE_PCTS = list(range(10, 110, 10))"
   ]
  },
  {
   "cell_type": "code",
   "execution_count": null,
   "metadata": {},
   "outputs": [],
   "source": [
    "config = ConfigFile.from_yaml(config_yaml_path)\n",
    "project_df = ProjectDF(project_df_path, config=config)\n",
    "\n",
    "umis_per_run_mode = {}\n",
    "for run_mode in run_modes:\n",
    "    umis_per_run_mode[run_mode] = config.get_run_mode(run_mode).variables['umi_cutoff']\n",
    "\n",
    "if isinstance(run_modes, str):\n",
    "    run_modes = [run_modes]"
   ]
  },
  {
   "cell_type": "markdown",
   "metadata": {},
   "source": [
    "## Overview"
   ]
  },
  {
   "cell_type": "markdown",
   "metadata": {},
   "source": [
    "### Run information"
   ]
  },
  {
   "cell_type": "code",
   "execution_count": null,
   "metadata": {},
   "outputs": [],
   "source": [
    "sample_info_df = report_utils.create_sample_info_df(project_df, \n",
    "                                                    project_id, \n",
    "                                                    sample_id, \n",
    "                                                    puck_barcode_file_id)\n",
    "\n",
    "dge_summaries = {}\n",
    "for run_mode in run_modes:\n",
    "    dge_summaries[run_mode] = {}\n",
    "    dge_summaries[run_mode] = report_utils.load_dge_summary_downsampling(\n",
    "        downsampled_dge_summary, run_mode, DOWNSAMPLE_PCTS, puck_barcode_file_id\n",
    "    )"
   ]
  },
  {
   "cell_type": "code",
   "execution_count": null,
   "metadata": {},
   "outputs": [],
   "source": [
    "visualizer = smk.pl.TabVisualizer()\n",
    "\n",
    "# Sample Information table\n",
    "visualizer.add_plot_group(\n",
    "        smk.pl.PlotGroup(\n",
    "        name=f\"Sample Information\",\n",
    "        description=f\"QC tables for the sample\",\n",
    "        plots=[smk.pl.DataFrameTable(\n",
    "            title=\"Sample Information\",\n",
    "            description=\"\",\n",
    "            data=sample_info_df.T.reset_index(names='Variable')\n",
    "        )]\n",
    "    )\n",
    ")"
   ]
  },
  {
   "cell_type": "code",
   "execution_count": null,
   "metadata": {},
   "outputs": [],
   "source": [
    "display(visualizer.generate_html())"
   ]
  },
  {
   "cell_type": "markdown",
   "metadata": {},
   "source": [
    "## Downstream stats\n",
    "\n",
    "In order to know whether we would gain more from sequencing deeper, we downsampled the data (the final.bam file) to contain 10%, 20%… 90% reads, and then we created the DigitalExpression matrix (as in the normal dropseq pipeline).\n",
    "\n",
    "This can give us insight, whether we have reached the saturation point (in terms of median umi per cell and median genes per cell) or whether we should sequence deeper.\n",
    "\n",
    "Results of this are plotted below."
   ]
  },
  {
   "cell_type": "markdown",
   "metadata": {},
   "source": [
    "### Histograms per run mode"
   ]
  },
  {
   "cell_type": "code",
   "execution_count": null,
   "metadata": {},
   "outputs": [],
   "source": [
    "visualizer = smk.pl.TabVisualizer()\n",
    "\n",
    "for run_mode, dge_summary in dge_summaries.items():\n",
    "    plots = []\n",
    "\n",
    "    plot = smk.pl.Plot(\n",
    "        title='total_counts',\n",
    "        description=f\"# of UMIs\\nper spatial unit\",\n",
    "        plot_func=partial(smk.pl.density_per_downsampling, dge_summary, \"total_counts\", log_scale=True, color=smk.pl.metrics_colors[\"umis\"], title=\"# of UMIs\\nper spatial unit\")\n",
    "    )\n",
    "    plots.append(plot)\n",
    "\n",
    "    plot = smk.pl.Plot(\n",
    "        title='n_reads',\n",
    "        description=f\"# of reads\\nper spatial unit\",\n",
    "        plot_func=partial(smk.pl.density_per_downsampling, dge_summary, \"n_reads\", log_scale=True, color=smk.pl.metrics_colors[\"reads\"], title=\"# of reads\\nper spatial unit\")\n",
    "    )\n",
    "    plots.append(plot)\n",
    "\n",
    "    plot = smk.pl.Plot(\n",
    "        title='reads_per_counts',\n",
    "        description=f\"median reads/UMI\\nper spatial unit\",\n",
    "        plot_func=partial(smk.pl.density_per_downsampling, dge_summary, \"reads_per_counts\", log_scale=True, color=smk.pl.metrics_colors[\"pcr\"], title=\"reads/UMI\\nper spatial unit\")\n",
    "    )\n",
    "    plots.append(plot)\n",
    "    \n",
    "    group = smk.pl.PlotGroup(\n",
    "        name=f\"Run Mode: {run_mode}\",\n",
    "        description=f\"Analysis results for {run_mode}\",\n",
    "        plots=plots\n",
    "    )\n",
    "    \n",
    "    visualizer.add_plot_group(group)"
   ]
  },
  {
   "cell_type": "code",
   "execution_count": null,
   "metadata": {},
   "outputs": [],
   "source": [
    "display(visualizer.generate_html())"
   ]
  },
  {
   "cell_type": "markdown",
   "metadata": {},
   "source": [
    "Median plots per `run_mode`"
   ]
  },
  {
   "cell_type": "code",
   "execution_count": null,
   "metadata": {},
   "outputs": [],
   "source": [
    "visualizer = smk.pl.TabVisualizer()\n",
    "\n",
    "for run_mode, dge_summary in dge_summaries.items():\n",
    "    plots = []\n",
    "    umi_cutoffs = umis_per_run_mode[run_mode]\n",
    "\n",
    "    plot = smk.pl.Plot(\n",
    "        title='total_counts',\n",
    "        description=f\"# of UMIs\\nper spatial unit\",\n",
    "        plot_func=partial(smk.pl.median_per_downsampling, dge_summary, \"total_counts\", umi_cutoffs, color=smk.pl.metrics_colors[\"umis\"], title=\"# of UMIs\\nper spatial unit\")\n",
    "    )\n",
    "    plots.append(plot)\n",
    "\n",
    "    plot = smk.pl.Plot(\n",
    "        title='n_reads',\n",
    "        description=f\"# of reads\\nper spatial unit\",\n",
    "        plot_func=partial(smk.pl.median_per_downsampling, dge_summary, \"n_reads\", umi_cutoffs, color=smk.pl.metrics_colors[\"reads\"], title=\"# of reads\\nper spatial unit\")\n",
    "    )\n",
    "    plots.append(plot)\n",
    "\n",
    "    plot = smk.pl.Plot(\n",
    "        title='reads_per_counts',\n",
    "        description=f\"median reads/UMI\\nper spatial unit\",\n",
    "        plot_func=partial(smk.pl.median_per_downsampling, dge_summary, \"reads_per_counts\", umi_cutoffs, color=smk.pl.metrics_colors[\"pcr\"], title=\"reads/UMI\\nper spatial unit\")\n",
    "    )\n",
    "    plots.append(plot)\n",
    "    \n",
    "    group = smk.pl.PlotGroup(\n",
    "        name=f\"Run Mode: {run_mode}\",\n",
    "        description=f\"Analysis results for {run_mode}\",\n",
    "        plots=plots\n",
    "    )\n",
    "    \n",
    "    visualizer.add_plot_group(group)"
   ]
  },
  {
   "cell_type": "code",
   "execution_count": null,
   "metadata": {},
   "outputs": [],
   "source": [
    "display(visualizer.generate_html())"
   ]
  },
  {
   "cell_type": "markdown",
   "metadata": {},
   "source": [
    "### Deciled median plots per run mode"
   ]
  },
  {
   "cell_type": "code",
   "execution_count": null,
   "metadata": {},
   "outputs": [],
   "source": [
    "visualizer = smk.pl.TabVisualizer()\n",
    "\n",
    "for run_mode, dge_summary in dge_summaries.items():\n",
    "    plots = []\n",
    "\n",
    "    deciledmedian = {\"name\": run_mode, \"plot\": None}\n",
    "    decile_dat = report_utils.generate_deciled_data(dge_summary)\n",
    "\n",
    "    plot = smk.pl.Plot(\n",
    "        title='Deciled median',\n",
    "        description=f\"Deciled median\",\n",
    "        plot_func=partial(smk.pl.deciled_median, decile_dat)\n",
    "    )\n",
    "    plots.append(plot)\n",
    "    \n",
    "    group = smk.pl.PlotGroup(\n",
    "        name=f\"Run Mode: {run_mode}\",\n",
    "        description=f\"Analysis results for {run_mode}\",\n",
    "        plots=plots\n",
    "    )\n",
    "    \n",
    "    visualizer.add_plot_group(group)"
   ]
  },
  {
   "cell_type": "code",
   "execution_count": null,
   "metadata": {},
   "outputs": [],
   "source": [
    "display(visualizer.generate_html())"
   ]
  }
 ],
 "metadata": {
  "kernelspec": {
   "display_name": "spacemake",
   "language": "python",
   "name": "python3"
  },
  "language_info": {
   "codemirror_mode": {
    "name": "ipython",
    "version": 3
   },
   "file_extension": ".py",
   "mimetype": "text/x-python",
   "name": "python",
   "nbconvert_exporter": "python",
   "pygments_lexer": "ipython3",
   "version": "3.10.14"
  }
 },
 "nbformat": 4,
 "nbformat_minor": 2
}
