{
 "cells": [
  {
   "cell_type": "markdown",
   "metadata": {},
   "source": [
    "# <b>spacemake</b> - Saturation Analysis"
   ]
  },
  {
   "cell_type": "code",
   "execution_count": null,
   "metadata": {},
   "outputs": [],
   "source": [
    "import datetime\n",
    "import spacemake as smk\n",
    "\n",
    "from spacemake.report import utils as report_utils\n",
    "from functools import partial"
   ]
  },
  {
   "cell_type": "code",
   "execution_count": null,
   "metadata": {},
   "outputs": [],
   "source": [
    "project_id = ...\n",
    "sample_id = ...\n",
    "downsampled_dge_summary = ...\n",
    "run_modes = ...\n",
    "puck_barcode_file_id = ...\n",
    "PCT_DOWNSAMPLE_TO_PLOT = [20, 40, 60, 80, 100]\n",
    "DOWNSAMPLE_PCTS = list(range(10, 110, 10))\n",
    "\n",
    "SAMPLEINFO_VARS = [\n",
    "    \"species\",\n",
    "    \"sequencing_date\",\n",
    "    \"investigator\",\n",
    "    \"experiment\",\n",
    "    \"barcode_flavor\",\n",
    "    \"sequencing_date\",\n",
    "    \"puck\",\n",
    "]"
   ]
  },
  {
   "cell_type": "code",
   "execution_count": null,
   "metadata": {},
   "outputs": [],
   "source": [
    "if isinstance(downsampled_dge_summary, str):\n",
    "    downsampled_dge_summary = [downsampled_dge_summary]\n",
    "if isinstance(run_modes, str):\n",
    "    run_modes = [run_modes]\n",
    "if (\n",
    "    isinstance(run_modes, list)\n",
    "    and isinstance(downsampled_dge_summary, list)\n",
    "    and len(run_modes) == len(downsampled_dge_summary)\n",
    "):\n",
    "    downsampled_dge_summary = {\n",
    "        f\"downsampled_dge_summary.{run_mode}.{d_pct}.{puck_barcode_file_id}\": d\n",
    "        for run_mode, d, d_pct in zip(run_modes, downsampled_dge_summary, DOWNSAMPLE_PCTS)\n",
    "    }\n",
    "elif (\n",
    "    isinstance(run_modes, list)\n",
    "    and isinstance(downsampled_dge_summary, list)\n",
    "    and len(run_modes) != len(downsampled_dge_summary)\n",
    "):\n",
    "    raise ValueError(\"'run_modes' and 'downsampled_dge_summary' must have the same length\")"
   ]
  },
  {
   "cell_type": "code",
   "execution_count": null,
   "metadata": {},
   "outputs": [],
   "source": [
    "def load_dge_summary_downsampling(downsampled_dge_summary, run_mode, puck_barcode_file_id):\n",
    "    obs_df = pd.DataFrame()\n",
    "    for downsample_pct in DOWNSAMPLE_PCTS:\n",
    "        _obs_df = pd.read_csv(\n",
    "            downsampled_dge_summary[f\"downsampled_dge_summary.{run_mode}.{downsample_pct}.{puck_barcode_file_id}\"]\n",
    "        )\n",
    "        _obs_df[\"_downsample_pct_report\"] = downsample_pct\n",
    "        obs_df = pd.concat([obs_df, _obs_df])\n",
    "\n",
    "    return obs_df"
   ]
  },
  {
   "cell_type": "code",
   "execution_count": null,
   "metadata": {},
   "outputs": [],
   "source": [
    "report = {\n",
    "    \"type\": \"saturation_analysis\",\n",
    "    \"runinformation\": [],\n",
    "    \"date\": datetime.date.today().strftime(\"%Y/%m/%d\"),\n",
    "    \"plots\": [],\n",
    "}\n",
    "main_plots = {\"histostats\": [], \"medianstats\": [], \"deciledmedian\": []}\n",
    "report[\"plots\"] = main_plots\n",
    "\n",
    "# Loading project_df for metadata\n",
    "config = ConfigFile.from_yaml(\"config.yaml\")\n",
    "project_df = ProjectDF(\"project_df.csv\", config=config)\n",
    "\n",
    "# Table: sample info\n",
    "sample_info = project_df.get_sample_info(project_id, sample_id)\n",
    "report[\"sampleinfo\"] = {}\n",
    "report[\"sampleinfo\"][\"project_id\"] = project_id\n",
    "report[\"sampleinfo\"][\"sample_id\"] = sample_id\n",
    "report[\"sampleinfo\"].update({svar: sample_info[svar] for svar in SAMPLEINFO_VARS})\n",
    "\n",
    "# Loading all dge data summaries\n",
    "# Table: summarised metrics over beads\n",
    "dge_summaries = {}\n",
    "for run_mode in run_modes:\n",
    "    dge_summaries[run_mode] = {}\n",
    "    dge_summaries[run_mode] = load_dge_summary_downsampling(\n",
    "        downsampled_dge_summary, run_mode, puck_barcode_file_id\n",
    "    )"
   ]
  },
  {
   "cell_type": "markdown",
   "metadata": {},
   "source": [
    "## Overview"
   ]
  },
  {
   "cell_type": "markdown",
   "metadata": {},
   "source": [
    "### Run information\n",
    "\n",
    "saturation analysis v0.8.1, generated on {{ report.date }}\n",
    "\n",
    "Contact: <a href=\"mailto:tamasryszard.sztanka-toth@mdc-berlin.de\" class=\"email\">tamasryszard.sztanka-toth@mdc-berlin.de</a>, <a href=\"mailto:nikolaos.karaiskos@mdc-berlin.de\" class=\"email\">nikolaos.karaiskos@mdc-berlin.de</a>, <a href=\"mailto:daniel.leonperinan@mdc-berlin.de\" class=\"email\">daniel.leonperinan@mdc-berlin.de</a>"
   ]
  },
  {
   "cell_type": "code",
   "execution_count": null,
   "metadata": {},
   "outputs": [],
   "source": [
    "# Table"
   ]
  },
  {
   "cell_type": "markdown",
   "metadata": {},
   "source": [
    "## Downstream stats\n",
    "\n",
    "In order to know whether we would gain more from sequencing deeper, we downsampled the data (the final.bam file) to contain 10%, 20%… 90% reads, and then we created the DigitalExpression matrix (as in the normal dropseq pipeline).\n",
    "\n",
    "This can give us insight, whether we have reached the saturation point (in terms of median umi per cell and median genes per cell) or whether we should sequence deeper.\n",
    "\n",
    "Results of this are plotted below."
   ]
  },
  {
   "cell_type": "markdown",
   "metadata": {},
   "source": [
    "### Histograms per run mode"
   ]
  },
  {
   "cell_type": "code",
   "execution_count": null,
   "metadata": {},
   "outputs": [],
   "source": [
    "visualizer = smk.pl.TabVisualizer()\n",
    "\n",
    "for run_mode, dge_summary in dge_summaries.items():\n",
    "    plots = []\n",
    "\n",
    "    plot = smk.pl.Plot(\n",
    "        title='total_counts',\n",
    "        description=f\"# of UMIs\\nper spatial unit\",\n",
    "        plot_func=partial(smk.pl.density_metric_faceted, dge_summary, \"total_counts\", log_scale=True, color=clrs[\"umis\"], title=\"# of UMIs\\nper spatial unit\")\n",
    "    )\n",
    "    plots.append(plot)\n",
    "\n",
    "    plot = smk.pl.Plot(\n",
    "        title='n_reads',\n",
    "        description=f\"# of reads\\nper spatial unit\",\n",
    "        plot_func=partial(smk.pl.density_metric_faceted, dge_summary, \"n_reads\", log_scale=True, color=clrs[\"reads\"], title=\"# of reads\\nper spatial unit\")\n",
    "    )\n",
    "    plots.append(plot)\n",
    "\n",
    "    plot = smk.pl.Plot(\n",
    "        title='reads_per_counts',\n",
    "        description=f\"median reads/UMI\\nper spatial unit\",\n",
    "        plot_func=partial(smk.pl.density_metric_faceted, dge_summary, \"reads_per_counts\", log_scale=True, color=clrs[\"pcr\"], title=\"reads/UMI\\nper spatial unit\")\n",
    "    )\n",
    "    plots.append(plot)\n",
    "    \n",
    "    group = smk.pl.PlotGroup(\n",
    "        name=f\"Run Mode: {run_mode}\",\n",
    "        description=f\"Analysis results for {run_mode}\",\n",
    "        plots=plots\n",
    "    )\n",
    "    \n",
    "    visualizer.add_plot_group(group)"
   ]
  },
  {
   "cell_type": "code",
   "execution_count": null,
   "metadata": {},
   "outputs": [],
   "source": [
    "display(visualizer.generate_html())"
   ]
  },
  {
   "cell_type": "markdown",
   "metadata": {},
   "source": [
    "### Median plots per run mode"
   ]
  },
  {
   "cell_type": "code",
   "execution_count": null,
   "metadata": {},
   "outputs": [],
   "source": [
    "visualizer = smk.pl.TabVisualizer()\n",
    "\n",
    "for run_mode, dge_summary in dge_summaries.items():\n",
    "    plots = []\n",
    "\n",
    "    umi_cutoffs_values = project_df.config.get_run_mode(run_mode).variables[\"umi_cutoff\"]\n",
    "    umi_cutoffs_values = list(sorted(list(set([int(u) for u in umi_cutoffs_values] + [1]))))\n",
    "    medianstats = {\"name\": run_mode, \"umiplot\": None, \"readsplot\": None, \"readsumiplot\": None}\n",
    "\n",
    "    plot = smk.pl.Plot(\n",
    "        title='total_counts',\n",
    "        description=f\"median UMIs\\nper spatial unit\",\n",
    "        plot_func=partial(smk.pl.spatial, dge_summary, \"total_counts\", umi_cutoffs_values, color=clrs[\"umis\"], title=\"median reads\\nper spatial unit\")\n",
    "    )\n",
    "    plots.append(plot)\n",
    "\n",
    "    plot = smk.pl.Plot(\n",
    "        title='n_reads',\n",
    "        description=f\"median reads\\nper spatial unit\",\n",
    "        plot_func=partial(smk.pl.spatial, dge_summary, \"n_reads\", umi_cutoffs_values, color=clrs[\"reads\"], title=\"median reads\\nper spatial unit\")\n",
    "    )\n",
    "    plots.append(plot)\n",
    "\n",
    "    plot = smk.pl.Plot(\n",
    "        title='reads_per_counts',\n",
    "        description=f\"median reads/UMI\\nper spatial unit\",\n",
    "        plot_func=partial(smk.pl.spatial, dge_summary, \"reads_per_counts\", umi_cutoffs_values, color=clrs[\"pcr\"], title=\"median reads/UMI\\nper spatial unit\")\n",
    "    )\n",
    "    plots.append(plot)\n",
    "    \n",
    "    group = smk.pl.PlotGroup(\n",
    "        name=f\"Run Mode: {run_mode}\",\n",
    "        description=f\"Analysis results for {run_mode}\",\n",
    "        plots=plots\n",
    "    )\n",
    "    \n",
    "    visualizer.add_plot_group(group)"
   ]
  },
  {
   "cell_type": "code",
   "execution_count": null,
   "metadata": {},
   "outputs": [],
   "source": [
    "display(visualizer.generate_html())"
   ]
  },
  {
   "cell_type": "markdown",
   "metadata": {},
   "source": [
    "### Deciled median plots per run mode"
   ]
  },
  {
   "cell_type": "code",
   "execution_count": null,
   "metadata": {},
   "outputs": [],
   "source": [
    "visualizer = smk.pl.TabVisualizer()\n",
    "\n",
    "for run_mode, dge_summary in dge_summaries.items():\n",
    "    plots = []\n",
    "\n",
    "    deciledmedian = {\"name\": run_mode, \"plot\": None}\n",
    "    decile_dat = report_utils.generate_deciled_data(dge_summary)\n",
    "\n",
    "    plot = smk.pl.Plot(\n",
    "        title='Deciled median',\n",
    "        description=f\"Deciled median\",\n",
    "        plot_func=partial(smk.pl.deciled_median, decile_dat)\n",
    "    )\n",
    "    plots.append(plot)\n",
    "    \n",
    "    group = smk.pl.PlotGroup(\n",
    "        name=f\"Run Mode: {run_mode}\",\n",
    "        description=f\"Analysis results for {run_mode}\",\n",
    "        plots=plots\n",
    "    )\n",
    "    \n",
    "    visualizer.add_plot_group(group)"
   ]
  },
  {
   "cell_type": "code",
   "execution_count": null,
   "metadata": {},
   "outputs": [],
   "source": [
    "display(visualizer.generate_html())"
   ]
  }
 ],
 "metadata": {
  "kernelspec": {
   "display_name": "spacemake",
   "language": "python",
   "name": "python3"
  },
  "language_info": {
   "codemirror_mode": {
    "name": "ipython",
    "version": 3
   },
   "file_extension": ".py",
   "mimetype": "text/x-python",
   "name": "python",
   "nbconvert_exporter": "python",
   "pygments_lexer": "ipython3",
   "version": "3.10.14"
  }
 },
 "nbformat": 4,
 "nbformat_minor": 2
}
